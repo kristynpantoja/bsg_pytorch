{
 "cells": [
  {
   "cell_type": "code",
   "execution_count": 1,
   "metadata": {},
   "outputs": [],
   "source": [
    "import torch\n",
    "import torch.nn as nn\n",
    "from torch.autograd import Variable\n",
    "from torch.nn import Parameter\n",
    "import torch.nn.functional as F\n",
    "import math\n",
    "\n",
    "from sklearn.datasets import fetch_20newsgroups\n",
    "import numpy as np\n",
    "\n",
    "import argparse\n",
    "from types import SimpleNamespace\n",
    "\n",
    "import random\n",
    "random.seed(1234)\n",
    "\n",
    "import pandas as pd\n",
    "import matplotlib.pyplot as plt\n",
    "\n",
    "from nltk.tokenize import RegexpTokenizer\n",
    "\n",
    "import bsg, tools"
   ]
  },
  {
   "cell_type": "code",
   "execution_count": 3,
   "metadata": {},
   "outputs": [],
   "source": [
    "# Get corpus: 20 news groups\n",
    "\n",
    "newsgroups_train = fetch_20newsgroups(subset='train')\n",
    "\n",
    "window = 5\n",
    "\n",
    "vocabulary, tokenized_corpus, word2idx, idx2word = tools.tokenize_corpus(newsgroups_train.data)\n",
    "\n",
    "indexed_corpus = tools.index_tokenized_corpus(tokenized_corpus, word2idx)\n",
    "\n",
    "corpus_center_words, corpus_context_words = tools.get_corpus_centers_contexts(indexed_corpus, window)\n",
    "\n",
    "unigram = tools.make_unigram_dict(corpus_center_words)"
   ]
  },
  {
   "cell_type": "code",
   "execution_count": 4,
   "metadata": {},
   "outputs": [],
   "source": [
    "args_dict = {\"vocab_size\" : len(vocabulary), \"window\" : window, \n",
    "             \"batch_size\" : 200, \"optimizer\" : 80, \"learning_rate\" : 0.0005, \n",
    "             \"momentum\" : 0.99, \"num_epoch\" : 50, \"init_mult\" : 1, \n",
    "             \"variance\" : 0.995, \"start\" : True, \"nogpu\" : True, \n",
    "             \"embedding_dim\" : 300, \"freeze\" : False}\n",
    "\n",
    "args = SimpleNamespace(**args_dict)"
   ]
  },
  {
   "cell_type": "code",
   "execution_count": null,
   "metadata": {},
   "outputs": [
    {
     "name": "stderr",
     "output_type": "stream",
     "text": [
      "/Users/patrickding/TAMU/research/bsg_pytorch/bsg.py:111: UserWarning: invalid index of a 0-dim tensor. This will be an error in PyTorch 0.5. Use tensor.item() to convert a 0-dim tensor to a Python number\n",
      "  loss_epoch += loss.data[0]    # add loss to loss_epoch\n"
     ]
    }
   ],
   "source": [
    "model = bsg.BSG(args.window, unigram, args.vocab_size)\n",
    "optimizer = torch.optim.Adam(model.parameters(), args.learning_rate, betas=(args.momentum, 0.999))\n",
    "model = bsg.train(model, args, optimizer, corpus_center_words[0:10000], corpus_context_words[0:10000])"
   ]
  },
  {
   "cell_type": "code",
   "execution_count": 14,
   "metadata": {},
   "outputs": [
    {
     "name": "stdout",
     "output_type": "stream",
     "text": [
      "2539447\n",
      "526\n"
     ]
    }
   ],
   "source": [
    "print(len(corpus_center_words))\n",
    "print(len(corpus_center_words[0:10000].unique()))"
   ]
  },
  {
   "cell_type": "code",
   "execution_count": 17,
   "metadata": {},
   "outputs": [
    {
     "ename": "TypeError",
     "evalue": "'dict' object is not callable",
     "output_type": "error",
     "traceback": [
      "\u001b[0;31m---------------------------------------------------------------------------\u001b[0m",
      "\u001b[0;31mTypeError\u001b[0m                                 Traceback (most recent call last)",
      "\u001b[0;32m<ipython-input-17-bf695d0cee4f>\u001b[0m in \u001b[0;36m<module>\u001b[0;34m\u001b[0m\n\u001b[0;32m----> 1\u001b[0;31m \u001b[0midx2word\u001b[0m\u001b[0;34m(\u001b[0m\u001b[0mcorpus_center_words\u001b[0m\u001b[0;34m[\u001b[0m\u001b[0;36m0\u001b[0m\u001b[0;34m]\u001b[0m\u001b[0;34m)\u001b[0m\u001b[0;34m\u001b[0m\u001b[0;34m\u001b[0m\u001b[0m\n\u001b[0m",
      "\u001b[0;31mTypeError\u001b[0m: 'dict' object is not callable"
     ]
    }
   ],
   "source": [
    "idx2word(corpus_center_words[0])"
   ]
  },
  {
   "cell_type": "code",
   "execution_count": 28,
   "metadata": {},
   "outputs": [],
   "source": [
    "foo, counts = np.unique(corpus_center_words[0:10000].tolist(), return_counts=True)"
   ]
  },
  {
   "cell_type": "code",
   "execution_count": 48,
   "metadata": {},
   "outputs": [],
   "source": [
    "test_idx2realidx = {idx: realidx for (idx , realidx) in enumerate(foo)}\n",
    "test_realidx2idx = {realidx: idx for (idx , realidx) in enumerate(foo)}"
   ]
  },
  {
   "cell_type": "code",
   "execution_count": 49,
   "metadata": {},
   "outputs": [],
   "source": [
    "from sklearn.metrics.pairwise import cosine_similarity\n",
    "cos_sim_matrix = cosine_similarity(model.type_means(torch.tensor(foo)).detach().numpy(), \n",
    "                                   model.type_means(torch.tensor(foo)).detach().numpy())\n",
    "def n_closest_words(word, cos_sim_matrix, n):\n",
    "    word_index = test_realidx2idx.get(word2idx.get(word))\n",
    "    print(\"word_index is \" + str(word_index))\n",
    "    close_words_indices = np.argsort(cos_sim_matrix[word_index])[-n:]\n",
    "    print(\"close_words_indices.shape\" + str(close_words_indices.shape))\n",
    "    return [idx2word.get(test_idx2realidx.get(j)) for j in close_words_indices]"
   ]
  },
  {
   "cell_type": "code",
   "execution_count": 53,
   "metadata": {},
   "outputs": [
    {
     "name": "stdout",
     "output_type": "stream",
     "text": [
      "word_index is 412\n",
      "close_words_indices.shape(20,)\n"
     ]
    },
    {
     "data": {
      "text/plain": [
       "['question',\n",
       " 'accidental',\n",
       " 'addition',\n",
       " 'made',\n",
       " 'requested',\n",
       " 'answer',\n",
       " 'reduced',\n",
       " 'there',\n",
       " 'where',\n",
       " 'gas',\n",
       " 'shelley',\n",
       " 'would',\n",
       " 'functionality',\n",
       " 'blank',\n",
       " 'curious',\n",
       " 'kuo',\n",
       " 'believe',\n",
       " 'doubt',\n",
       " 'harvard',\n",
       " 'washington']"
      ]
     },
     "execution_count": 53,
     "metadata": {},
     "output_type": "execute_result"
    }
   ],
   "source": [
    "n_closest_words(\"washington\", cos_sim_matrix, 20)"
   ]
  },
  {
   "cell_type": "code",
   "execution_count": null,
   "metadata": {},
   "outputs": [],
   "source": []
  }
 ],
 "metadata": {
  "kernelspec": {
   "display_name": "Python 3",
   "language": "python",
   "name": "python3"
  },
  "language_info": {
   "codemirror_mode": {
    "name": "ipython",
    "version": 3
   },
   "file_extension": ".py",
   "mimetype": "text/x-python",
   "name": "python",
   "nbconvert_exporter": "python",
   "pygments_lexer": "ipython3",
   "version": "3.6.5"
  }
 },
 "nbformat": 4,
 "nbformat_minor": 2
}
